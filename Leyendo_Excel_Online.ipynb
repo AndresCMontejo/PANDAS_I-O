{
  "nbformat": 4,
  "nbformat_minor": 0,
  "metadata": {
    "colab": {
      "provenance": [],
      "authorship_tag": "ABX9TyMgm/RsKejFC/eJAFOrFBpY",
      "include_colab_link": true
    },
    "kernelspec": {
      "name": "python3",
      "display_name": "Python 3"
    },
    "language_info": {
      "name": "python"
    }
  },
  "cells": [
    {
      "cell_type": "markdown",
      "metadata": {
        "id": "view-in-github",
        "colab_type": "text"
      },
      "source": [
        "<a href=\"https://colab.research.google.com/github/AndresCMontejo/PANDAS_I-O/blob/main/Leyendo_Excel_Online.ipynb\" target=\"_parent\"><img src=\"https://colab.research.google.com/assets/colab-badge.svg\" alt=\"Open In Colab\"/></a>"
      ]
    },
    {
      "cell_type": "markdown",
      "source": [
        "## **Archivos de Excel Online**"
      ],
      "metadata": {
        "id": "Zj93fks-bl-2"
      }
    },
    {
      "cell_type": "markdown",
      "source": [
        "###**Importando archivo Excel en la nube**"
      ],
      "metadata": {
        "id": "_-so0VIFbrew"
      }
    },
    {
      "cell_type": "code",
      "execution_count": null,
      "metadata": {
        "id": "bB46Y9g-bbPT"
      },
      "outputs": [],
      "source": []
    }
  ]
}