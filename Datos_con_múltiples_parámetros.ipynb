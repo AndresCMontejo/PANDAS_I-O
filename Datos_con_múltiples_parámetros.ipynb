{
  "nbformat": 4,
  "nbformat_minor": 0,
  "metadata": {
    "colab": {
      "provenance": [],
      "authorship_tag": "ABX9TyMjUjprk3HoEAMQ3UpheJow",
      "include_colab_link": true
    },
    "kernelspec": {
      "name": "python3",
      "display_name": "Python 3"
    },
    "language_info": {
      "name": "python"
    }
  },
  "cells": [
    {
      "cell_type": "markdown",
      "metadata": {
        "id": "view-in-github",
        "colab_type": "text"
      },
      "source": [
        "<a href=\"https://colab.research.google.com/github/AndresCMontejo/PANDAS_I-O/blob/main/Datos_con_m%C3%BAltiples_par%C3%A1metros.ipynb\" target=\"_parent\"><img src=\"https://colab.research.google.com/assets/colab-badge.svg\" alt=\"Open In Colab\"/></a>"
      ]
    },
    {
      "cell_type": "markdown",
      "source": [
        "## **DESAFIO**"
      ],
      "metadata": {
        "id": "KexC-aywFYP3"
      }
    },
    {
      "cell_type": "markdown",
      "source": [
        "Su desafío aquí será leer este archivo usando la función read_csv de la biblioteca Pandas. Se deben agregar algunos parámetros para que la lectura se realice correctamente. Entonces, aquí hay algunos consejos:"
      ],
      "metadata": {
        "id": "xLcpmiGkFes5"
      }
    },
    {
      "cell_type": "code",
      "execution_count": null,
      "metadata": {
        "id": "2NC5dPZAEdVE"
      },
      "outputs": [],
      "source": [
        "#Asegúrese de que el archivo CSV esté separado por una coma o punto y coma."
      ]
    }
  ]
}